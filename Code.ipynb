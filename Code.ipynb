{
 "cells": [
  {
   "cell_type": "markdown",
   "id": "18ebfe11",
   "metadata": {},
   "source": [
    "***Creating the Eight Emotions Sets of Plutchik’s Wheel***\n",
    "\n",
    "*I created the eight emotions sets of Plutchik’s Wheel using an English-English dictionary containing a large number of words with their explanations. Plutchik’s Wheel's primary emotions are joy, trust, fear, surprise, sadness, anticipation, anger, and disgust.*\n",
    "\n",
    "*First, I built a dictionary, taking the words as 'key' and their numbers as 'value', and I included the words of the explanation of the first emotion with their numbers. After that, I expanded the dictionary by adding the words of the explanation of each 'key' in the dictionary. I can control the repetition of the process by the depth of the function I made. When the program encounters repeated words, it increases the 'value' according to their number.*"
   ]
  },
  {
   "cell_type": "code",
   "execution_count": 8,
   "id": "ddbf755b",
   "metadata": {},
   "outputs": [],
   "source": [
    "# Import the modules required\n",
    "import json\n",
    "import pandas as pd\n",
    "from nltk.corpus import stopwords\n",
    "import regex as re\n",
    "from string import digits"
   ]
  },
  {
   "cell_type": "code",
   "execution_count": 78,
   "id": "cdb95f8e",
   "metadata": {},
   "outputs": [],
   "source": [
    "# Reading the dictionary that will be used  to create the sets \n",
    "data = json.load(open(r\"dictionary.json\"))"
   ]
  },
  {
   "cell_type": "code",
   "execution_count": 79,
   "id": "4e6e51d3",
   "metadata": {},
   "outputs": [],
   "source": [
    "# Set a function taking out related words for a given word and putting them all into a dictionary\n",
    "\n",
    "def find_related(input_string: str, dictionary: dict, depth: int = 1):\n",
    "    if input_string not in dictionary:\n",
    "        return\n",
    "# I used 'source and target' since we can't make changes in the dictionary in Python while traversing over it\n",
    "    source = {input_string: 1}\n",
    "    target = {}\n",
    "\n",
    "    for i in range(depth):\n",
    "        for word1 in source:\n",
    "            if word1 not in dictionary:\n",
    "                continue\n",
    "\n",
    "            # Find the related words, remove symbols and digits, and split them to list\n",
    "            description = dictionary[word1]\n",
    "            res = ''.join([i for i in description if not i.isdigit()])\n",
    "            words_list = re.sub(r'[^\\w\\s]', '', res.lower()).split()\n",
    "            \n",
    "            # Remove stop words with NLTK\n",
    "            for word in words_list:\n",
    "                if word in stopwords.words('english'):\n",
    "                    words_list.remove(word)\n",
    "                    continue\n",
    "\n",
    "                # Build dictionary from list\n",
    "                if word not in target:\n",
    "                    target[word] = 1\n",
    "                else:\n",
    "                    target[word] += 1\n",
    "\n",
    "        source.clear()\n",
    "        source = target.copy()\n",
    "\n",
    "    return target"
   ]
  },
  {
   "cell_type": "code",
   "execution_count": 80,
   "id": "1b10fd18",
   "metadata": {},
   "outputs": [
    {
     "name": "stdout",
     "output_type": "stream",
     "text": [
      "The length of joy dictionary: 44586\n"
     ]
    }
   ],
   "source": [
    "# Run the function in order to create 'joy' dictionary in the depth of 4\n",
    "joy = find_related('joy', data, depth=4)\n",
    "print('The length of joy dictionary:', len(joy))\n",
    "\n",
    "# Store the dictionary in a json file:\n",
    "with open('sets\\\\joy.json', 'w') as fp:\n",
    "    json.dump(joy, fp)"
   ]
  },
  {
   "cell_type": "code",
   "execution_count": 118,
   "id": "81440e72",
   "metadata": {},
   "outputs": [
    {
     "data": {
      "text/plain": [
       "{'excited': 90, 'acquisition': 33, 'pleasurable': 14, 'feelings': 113}"
      ]
     },
     "execution_count": 118,
     "metadata": {},
     "output_type": "execute_result"
    }
   ],
   "source": [
    "# Here is an example of what the 'joy' dictionary looks like\n",
    "dict(list(joy.items())[:4])"
   ]
  },
  {
   "cell_type": "markdown",
   "id": "81a95a35",
   "metadata": {},
   "source": [
    "*Now, Let's do the same for the other 7 emotions*"
   ]
  },
  {
   "cell_type": "code",
   "execution_count": 81,
   "id": "6c74cea3",
   "metadata": {},
   "outputs": [
    {
     "name": "stdout",
     "output_type": "stream",
     "text": [
      "The length of trust dictionary: 47199\n",
      "The length of fear dictionary: 44471\n",
      "The length of surprise dictionary: 43653\n",
      "The length of sadness dictionary: 36553\n",
      "The length of disgust dictionary: 41771\n",
      "The length of anger dictionary: 45301\n",
      "The length of anticipation dictionary: 40443\n"
     ]
    }
   ],
   "source": [
    "trust = find_related('trust', data, depth=4)\n",
    "print('The length of trust dictionary:', len(trust))\n",
    "with open('sets\\\\trust.json', 'w') as fp:\n",
    "    json.dump(trust, fp)\n",
    "    \n",
    "fear = find_related('fear', data, depth=4)\n",
    "print('The length of fear dictionary:', len(fear))\n",
    "with open('sets\\\\fear.json', 'w') as fp:\n",
    "    json.dump(fear, fp)  \n",
    "    \n",
    "surprise = find_related('surprise', data, depth=4)\n",
    "print('The length of surprise dictionary:', len(surprise))\n",
    "with open('sets\\\\surprise.json', 'w') as fp:\n",
    "    json.dump(surprise, fp)\n",
    "    \n",
    "sadness = find_related('sadness', data, depth=4)\n",
    "print('The length of sadness dictionary:', len(sadness))\n",
    "with open('sets\\\\sadness.json', 'w') as fp:\n",
    "    json.dump(sadness, fp)\n",
    "    \n",
    "disgust = find_related('disgust', data, depth=4)\n",
    "print('The length of disgust dictionary:', len(disgust))\n",
    "with open('sets\\\\disgust.json', 'w') as fp:\n",
    "    json.dump(disgust, fp)\n",
    "    \n",
    "anger = find_related('anger', data, depth=4)\n",
    "print('The length of anger dictionary:', len(anger))\n",
    "with open('sets\\\\anger.json', 'w') as fp:\n",
    "    json.dump(anger, fp)\n",
    "    \n",
    "anticipation = find_related('anticipation', data, depth=4)\n",
    "print('The length of anticipation dictionary:', len(anticipation))\n",
    "with open('sets\\\\anticipation.json', 'w') as fp:\n",
    "    json.dump(anticipation, fp)"
   ]
  },
  {
   "cell_type": "markdown",
   "id": "a69571bd",
   "metadata": {},
   "source": [
    "***Importing Tweets that be Analyzed Using Snscrape Libray***"
   ]
  },
  {
   "cell_type": "code",
   "execution_count": 41,
   "id": "52a5e440",
   "metadata": {},
   "outputs": [
    {
     "name": "stderr",
     "output_type": "stream",
     "text": [
      "C:\\Users\\Abdalhadi\\AppData\\Local\\Temp\\ipykernel_4064\\204851233.py:11: DeprecatedFeatureWarning: content is deprecated, use rawContent instead\n",
      "  attributes_container.append([tweet.user.username, tweet.date, tweet.content])\n"
     ]
    }
   ],
   "source": [
    "import snscrape.modules.twitter as sntwitter\n",
    "import pandas as pd\n",
    "\n",
    "# Creating list to append tweet data to\n",
    "attributes_container = []\n",
    "\n",
    "# Using TwitterSearchScraper to scrape data and append tweets to list\n",
    "for i,tweet in enumerate(sntwitter.TwitterSearchScraper('fifa world cup 2022 since:2022-12-01 until:2022-12-31').get_items()):\n",
    "    if i > 100:\n",
    "        break\n",
    "    attributes_container.append([tweet.user.username, tweet.date, tweet.content])\n",
    "    \n",
    "# Creating a dataframe to load the list\n",
    "tweets_df = pd.DataFrame(attributes_container, columns=[\"User\", \"Date Created\", \"Tweet\"])\n",
    "\n",
    "tweets = tweets_df['Tweet']"
   ]
  },
  {
   "cell_type": "markdown",
   "id": "ce619707",
   "metadata": {},
   "source": [
    "***Set a Class for Applying Sentiment Analysis on the Tweets***"
   ]
  },
  {
   "cell_type": "code",
   "execution_count": 42,
   "id": "5e75c2dd",
   "metadata": {},
   "outputs": [],
   "source": [
    "class Feeling:\n",
    "    joy_dic = json.load(open(f\"sets\\\\joy.json\"))\n",
    "    trust_dic = json.load(open(f\"sets\\\\trust.json\"))\n",
    "    fear_dic = json.load(open(f\"sets\\\\fear.json\"))\n",
    "    surprise_dic = json.load(open(f\"sets\\\\surprise.json\"))\n",
    "    sadness_dic = json.load(open(f\"sets\\\\sadness.json\"))\n",
    "    disgust_dic = json.load(open(f\"sets\\\\disgust.json\"))\n",
    "    anger_dic = json.load(open(f\"sets\\\\anger.json\"))\n",
    "    anticipation_dic = json.load(open(f\"sets\\\\anticipation.json\"))\n",
    "    \n",
    "    def __init__(self, tweet):\n",
    "        self.joy = 0\n",
    "        self.trust = 0\n",
    "        self.fear = 0\n",
    "        self.surprise = 0\n",
    "        self.sadness = 0\n",
    "        self.disgust = 0\n",
    "        self.anger = 0\n",
    "        self.anticipation = 0\n",
    "\n",
    "        self.words = []\n",
    "        self.split(tweet)\n",
    "        self.find_frequency()\n",
    "\n",
    "    def split(self, tweet):\n",
    "        res = ''.join([i for i in tweet if not i.isdigit()])\n",
    "        self.words = re.sub(r'[^\\w\\s]', '', res.lower()).split()\n",
    "        for word in self.words:\n",
    "            if word in stopwords.words('english'):\n",
    "                self.words.remove(word)\n",
    "                continue\n",
    "\n",
    "    def find_frequency(self):\n",
    "        #print(\"length of the text: \", len(self.words))\n",
    "        for word in self.words:\n",
    "            self.joy += Feeling.joy_dic.get(word, 0)\n",
    "            self.trust += Feeling.trust_dic.get(word, 0)\n",
    "            self.fear += Feeling.fear_dic.get(word, 0)\n",
    "            self.surprise += Feeling.surprise_dic.get(word, 0)\n",
    "            self.sadness += Feeling.sadness_dic.get(word, 0)\n",
    "            self.disgust += Feeling.disgust_dic.get(word, 0)\n",
    "            self.anger += Feeling.anger_dic.get(word, 0)\n",
    "            self.anticipation += Feeling.anticipation_dic.get(word, 0)"
   ]
  },
  {
   "cell_type": "markdown",
   "id": "691e79d4",
   "metadata": {},
   "source": [
    "***Run the Class and Arrange the Results in a Data Frame.***"
   ]
  },
  {
   "cell_type": "code",
   "execution_count": 43,
   "id": "05c4af2b",
   "metadata": {},
   "outputs": [
    {
     "data": {
      "text/html": [
       "<div>\n",
       "<style scoped>\n",
       "    .dataframe tbody tr th:only-of-type {\n",
       "        vertical-align: middle;\n",
       "    }\n",
       "\n",
       "    .dataframe tbody tr th {\n",
       "        vertical-align: top;\n",
       "    }\n",
       "\n",
       "    .dataframe thead th {\n",
       "        text-align: right;\n",
       "    }\n",
       "</style>\n",
       "<table border=\"1\" class=\"dataframe\">\n",
       "  <thead>\n",
       "    <tr style=\"text-align: right;\">\n",
       "      <th></th>\n",
       "      <th>Tweet</th>\n",
       "      <th>Joy</th>\n",
       "      <th>Trust</th>\n",
       "      <th>Fear</th>\n",
       "      <th>Surprise</th>\n",
       "      <th>Sadness</th>\n",
       "      <th>Disgust</th>\n",
       "      <th>Anger</th>\n",
       "      <th>Anticipation</th>\n",
       "    </tr>\n",
       "  </thead>\n",
       "  <tbody>\n",
       "    <tr>\n",
       "      <th>0</th>\n",
       "      <td>YOUTUBE • VÍDEOS EM ALTA GLOBAL 🌎\\n\\n#17 (-7) - 'It’s Beginning To Look A Lot Like Christmas' (cover) by V of BTS\\n\\n#35 (-21) - [BTS Episode] FIFA World Cup 2022 Soundtrack 'Dreamers' MV Shoot Sketch\\n\\n(@BTS_twt)</td>\n",
       "      <td>3896</td>\n",
       "      <td>4554</td>\n",
       "      <td>3856</td>\n",
       "      <td>3588</td>\n",
       "      <td>2488</td>\n",
       "      <td>3217</td>\n",
       "      <td>3900</td>\n",
       "      <td>3043</td>\n",
       "    </tr>\n",
       "    <tr>\n",
       "      <th>1</th>\n",
       "      <td>Fancy this Adidas FA Cymru 2022/23 Home Shirt from the 2022 FIFA World Cup costing 22 quid, well worth a bargain I'd say\\n\\n@adidas @adidasUK @adidasfootball @FAWales @FIFAWorldCup https://t.co/0bF7AntYyh</td>\n",
       "      <td>1780</td>\n",
       "      <td>2042</td>\n",
       "      <td>1740</td>\n",
       "      <td>1656</td>\n",
       "      <td>1242</td>\n",
       "      <td>1507</td>\n",
       "      <td>1804</td>\n",
       "      <td>1365</td>\n",
       "    </tr>\n",
       "    <tr>\n",
       "      <th>2</th>\n",
       "      <td>Y’all keep forgetting “Messi + Fifa = Fifa World Cup 2022 “, he didn’t do it by himself.</td>\n",
       "      <td>743</td>\n",
       "      <td>859</td>\n",
       "      <td>733</td>\n",
       "      <td>707</td>\n",
       "      <td>542</td>\n",
       "      <td>634</td>\n",
       "      <td>736</td>\n",
       "      <td>590</td>\n",
       "    </tr>\n",
       "    <tr>\n",
       "      <th>3</th>\n",
       "      <td>RT bts_bighit: [Episode] #정국 #JungKook FIFA World Cup Qatar 2022 Soundtrack ‘Dreamers’ 뮤직비디오 촬영 현장 비하인드 공개! ⚽️🐰💜 #FIFAWorldCup #Dreamers20…</td>\n",
       "      <td>541</td>\n",
       "      <td>635</td>\n",
       "      <td>524</td>\n",
       "      <td>504</td>\n",
       "      <td>379</td>\n",
       "      <td>453</td>\n",
       "      <td>541</td>\n",
       "      <td>448</td>\n",
       "    </tr>\n",
       "    <tr>\n",
       "      <th>4</th>\n",
       "      <td>FIFA World Cup 2022: Fears grow over Argentina fan who went topless as new footage emerges from final against France https://t.co/GLm3kX6RBl final/news-story/533bb96cb29392b3a94bab517df57a37 via @newscoma Then FIFA should ban Arab countries from sponsoring the World Cup!</td>\n",
       "      <td>1847</td>\n",
       "      <td>2158</td>\n",
       "      <td>1827</td>\n",
       "      <td>1735</td>\n",
       "      <td>1221</td>\n",
       "      <td>1552</td>\n",
       "      <td>1860</td>\n",
       "      <td>1474</td>\n",
       "    </tr>\n",
       "  </tbody>\n",
       "</table>\n",
       "</div>"
      ],
      "text/plain": [
       "                                                                                                                                                                                                                                                                             Tweet  \\\n",
       "0                                                           YOUTUBE • VÍDEOS EM ALTA GLOBAL 🌎\\n\\n#17 (-7) - 'It’s Beginning To Look A Lot Like Christmas' (cover) by V of BTS\\n\\n#35 (-21) - [BTS Episode] FIFA World Cup 2022 Soundtrack 'Dreamers' MV Shoot Sketch\\n\\n(@BTS_twt)   \n",
       "1                                                                     Fancy this Adidas FA Cymru 2022/23 Home Shirt from the 2022 FIFA World Cup costing 22 quid, well worth a bargain I'd say\\n\\n@adidas @adidasUK @adidasfootball @FAWales @FIFAWorldCup https://t.co/0bF7AntYyh   \n",
       "2                                                                                                                                                                                         Y’all keep forgetting “Messi + Fifa = Fifa World Cup 2022 “, he didn’t do it by himself.   \n",
       "3                                                                                                                                      RT bts_bighit: [Episode] #정국 #JungKook FIFA World Cup Qatar 2022 Soundtrack ‘Dreamers’ 뮤직비디오 촬영 현장 비하인드 공개! ⚽️🐰💜 #FIFAWorldCup #Dreamers20…   \n",
       "4  FIFA World Cup 2022: Fears grow over Argentina fan who went topless as new footage emerges from final against France https://t.co/GLm3kX6RBl final/news-story/533bb96cb29392b3a94bab517df57a37 via @newscoma Then FIFA should ban Arab countries from sponsoring the World Cup!   \n",
       "\n",
       "    Joy  Trust  Fear  Surprise  Sadness  Disgust  Anger  Anticipation  \n",
       "0  3896   4554  3856      3588     2488     3217   3900          3043  \n",
       "1  1780   2042  1740      1656     1242     1507   1804          1365  \n",
       "2   743    859   733       707      542      634    736           590  \n",
       "3   541    635   524       504      379      453    541           448  \n",
       "4  1847   2158  1827      1735     1221     1552   1860          1474  "
      ]
     },
     "execution_count": 43,
     "metadata": {},
     "output_type": "execute_result"
    }
   ],
   "source": [
    "# Create empty DataFrame with column names\n",
    "df = pd.DataFrame(columns = ['Tweet', 'Joy', 'Trust', 'Fear', 'Surprise', 'Sadness', 'Disgust', 'Anger', 'Anticipation'])  \n",
    "\n",
    "# Fill the DataFrame with the result of each tweet row by row\n",
    "for twt in tweets:\n",
    "    tweet = Feeling(twt)\n",
    "    df.loc[len(df)] = [twt, tweet.joy, tweet.trust, tweet.fear, tweet.surprise,\n",
    "                   tweet.sadness, tweet.disgust, tweet.anger, tweet.anticipation]\n",
    "\n",
    "pd.options.display.max_colwidth = 280 \n",
    "df.head()"
   ]
  },
  {
   "cell_type": "code",
   "execution_count": null,
   "id": "c2611a1c",
   "metadata": {},
   "outputs": [],
   "source": []
  }
 ],
 "metadata": {
  "kernelspec": {
   "display_name": "Python 3 (ipykernel)",
   "language": "python",
   "name": "python3"
  },
  "language_info": {
   "codemirror_mode": {
    "name": "ipython",
    "version": 3
   },
   "file_extension": ".py",
   "mimetype": "text/x-python",
   "name": "python",
   "nbconvert_exporter": "python",
   "pygments_lexer": "ipython3",
   "version": "3.9.12"
  }
 },
 "nbformat": 4,
 "nbformat_minor": 5
}
